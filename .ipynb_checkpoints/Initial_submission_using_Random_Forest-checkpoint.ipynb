{
 "cells": [
  {
   "cell_type": "code",
   "execution_count": 1,
   "id": "17d1f2f8",
   "metadata": {},
   "outputs": [],
   "source": [
    "import pandas as pd\n",
    "import matplotlib as mat\n",
    "import seaborn as sns\n",
    "import numpy as np\n",
    "from sklearn.tree import DecisionTreeRegressor\n",
    "from sklearn.ensemble import RandomForestRegressor\n",
    "from sklearn.model_selection import train_test_split\n",
    "from sklearn.model_selection import GridSearchCV\n",
    "from sklearn.metrics import mean_squared_log_error"
   ]
  },
  {
   "cell_type": "code",
   "execution_count": 2,
   "id": "92f26613",
   "metadata": {},
   "outputs": [],
   "source": [
    "#Using original data to create basic submission\n",
    "test_data = pd.read_csv(\"C:\\\\Users\\\\Ajay Kallepalli\\\\Documents\\\\GitHub\\\\Kaggle Data\\\\test.csv\")\n",
    "train_data = pd.read_csv(\"C:\\\\Users\\\\Ajay Kallepalli\\\\Documents\\\\GitHub\\\\Kaggle Data\\\\train.csv\")"
   ]
  },
  {
   "cell_type": "code",
   "execution_count": null,
   "id": "51edd83b",
   "metadata": {},
   "outputs": [],
   "source": []
  },
  {
   "cell_type": "code",
   "execution_count": 3,
   "id": "017dbed3",
   "metadata": {},
   "outputs": [],
   "source": [
    "Y = train_data['pressure']\n",
    "X = train_data.drop(['pressure', 'id'], axis = 1)"
   ]
  },
  {
   "cell_type": "code",
   "execution_count": 4,
   "id": "408d79f8",
   "metadata": {},
   "outputs": [],
   "source": [
    "#Splitting Train data into test and train\n",
    "x_train,x_test,y_train,y_test = train_test_split(X,Y,test_size = 0.33,random_state = int('007'))"
   ]
  },
  {
   "cell_type": "code",
   "execution_count": 5,
   "id": "1fada5aa",
   "metadata": {},
   "outputs": [
    {
     "data": {
      "text/plain": [
       "RandomForestRegressor(n_estimators=25, random_state=42)"
      ]
     },
     "execution_count": 5,
     "metadata": {},
     "output_type": "execute_result"
    }
   ],
   "source": [
    "#training random forest model\n",
    "# Finding best parameters for RandomForestRegressor\n",
    "rf = RandomForestRegressor(n_estimators = 25, random_state = 42)\n",
    "# Train the model on training data\n",
    "rf.fit(x_train, y_train)"
   ]
  },
  {
   "cell_type": "code",
   "execution_count": 6,
   "id": "78c5ccc5",
   "metadata": {},
   "outputs": [
    {
     "name": "stdout",
     "output_type": "stream",
     "text": [
      "Mean Absolute Error: 1.9 degrees.\n"
     ]
    }
   ],
   "source": [
    "# Use the forest's predict method on the test data\n",
    "predictions = rf.predict(x_test)\n",
    "# Calculate the absolute errors\n",
    "errors = abs(predictions - y_test)\n",
    "# Print out the mean absolute error (mae)\n",
    "print('Mean Absolute Error:', round(np.mean(errors), 2), 'degrees.')"
   ]
  },
  {
   "cell_type": "code",
   "execution_count": 7,
   "id": "f40641aa",
   "metadata": {},
   "outputs": [],
   "source": [
    "submission_pred = rf.predict(test_data.drop('id', axis =  1))\n",
    "submission_df = pd.DataFrame({'id': test_data['id'], 'pressure' : submission_pred})\n",
    "submission_df.to_csv(\"C:\\\\Users\\\\Ajay Kallepalli\\\\Documents\\\\GitHub\\\\Kaggle Data\\\\rf25_ajay_submission.csv\", index=False)"
   ]
  }
 ],
 "metadata": {
  "kernelspec": {
   "display_name": "Python 3",
   "language": "python",
   "name": "python3"
  },
  "language_info": {
   "codemirror_mode": {
    "name": "ipython",
    "version": 3
   },
   "file_extension": ".py",
   "mimetype": "text/x-python",
   "name": "python",
   "nbconvert_exporter": "python",
   "pygments_lexer": "ipython3",
   "version": "3.8.8"
  }
 },
 "nbformat": 4,
 "nbformat_minor": 5
}
